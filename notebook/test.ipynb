{
 "cells": [
  {
   "cell_type": "markdown",
   "metadata": {},
   "source": [
    "# This notebook will be used to test the correctness of my implementation"
   ]
  },
  {
   "cell_type": "markdown",
   "metadata": {},
   "source": [
    "## Testing Encoder block"
   ]
  },
  {
   "cell_type": "code",
   "execution_count": 39,
   "metadata": {},
   "outputs": [],
   "source": [
    "import sys\n",
    "\n",
    "sys.path.append(\"../src\")\n",
    "from encoder import Encoder"
   ]
  },
  {
   "cell_type": "code",
   "execution_count": 40,
   "metadata": {},
   "outputs": [],
   "source": [
    "import torch\n",
    "\n",
    "encoder = Encoder(channels=(3, 64, 128, 256, 512, 1024))"
   ]
  },
  {
   "cell_type": "code",
   "execution_count": 41,
   "metadata": {},
   "outputs": [
    {
     "name": "stdout",
     "output_type": "stream",
     "text": [
      "Encoder(\n",
      "  (encoder_blocks): ModuleList(\n",
      "    (0): Block(\n",
      "      (conv1): Conv2d(3, 64, kernel_size=(3, 3), stride=(1, 1))\n",
      "      (relu): ReLU()\n",
      "      (conv2): Conv2d(64, 64, kernel_size=(3, 3), stride=(1, 1))\n",
      "    )\n",
      "    (1): Block(\n",
      "      (conv1): Conv2d(64, 128, kernel_size=(3, 3), stride=(1, 1))\n",
      "      (relu): ReLU()\n",
      "      (conv2): Conv2d(128, 128, kernel_size=(3, 3), stride=(1, 1))\n",
      "    )\n",
      "    (2): Block(\n",
      "      (conv1): Conv2d(128, 256, kernel_size=(3, 3), stride=(1, 1))\n",
      "      (relu): ReLU()\n",
      "      (conv2): Conv2d(256, 256, kernel_size=(3, 3), stride=(1, 1))\n",
      "    )\n",
      "    (3): Block(\n",
      "      (conv1): Conv2d(256, 512, kernel_size=(3, 3), stride=(1, 1))\n",
      "      (relu): ReLU()\n",
      "      (conv2): Conv2d(512, 512, kernel_size=(3, 3), stride=(1, 1))\n",
      "    )\n",
      "    (4): Block(\n",
      "      (conv1): Conv2d(512, 1024, kernel_size=(3, 3), stride=(1, 1))\n",
      "      (relu): ReLU()\n",
      "      (conv2): Conv2d(1024, 1024, kernel_size=(3, 3), stride=(1, 1))\n",
      "    )\n",
      "  )\n",
      "  (pool): MaxPool2d(kernel_size=2, stride=2, padding=0, dilation=1, ceil_mode=False)\n",
      ")\n"
     ]
    }
   ],
   "source": [
    "print(encoder)"
   ]
  },
  {
   "cell_type": "code",
   "execution_count": 42,
   "metadata": {},
   "outputs": [
    {
     "name": "stdout",
     "output_type": "stream",
     "text": [
      "torch.Size([1, 64, 568, 568])\n",
      "torch.Size([1, 128, 280, 280])\n",
      "torch.Size([1, 256, 136, 136])\n",
      "torch.Size([1, 512, 64, 64])\n",
      "torch.Size([1, 1024, 28, 28])\n"
     ]
    }
   ],
   "source": [
    "\n",
    "x = torch.randn(1, 3, 572, 572)  # Batch size of 1, 3 input channels, 572x572 image\n",
    "features = encoder(x)\n",
    "for f in features:\n",
    "    print(f.shape)\n",
    "    "
   ]
  },
  {
   "cell_type": "code",
   "execution_count": null,
   "metadata": {},
   "outputs": [],
   "source": []
  },
  {
   "cell_type": "markdown",
   "metadata": {},
   "source": [
    "## Testing Encoder block"
   ]
  },
  {
   "cell_type": "code",
   "execution_count": 43,
   "metadata": {},
   "outputs": [],
   "source": [
    "from decoder import Decoder"
   ]
  },
  {
   "cell_type": "code",
   "execution_count": 44,
   "metadata": {},
   "outputs": [],
   "source": [
    "decoder = Decoder(channels=(1024, 512, 256, 128, 64))"
   ]
  },
  {
   "cell_type": "code",
   "execution_count": 47,
   "metadata": {},
   "outputs": [
    {
     "name": "stdout",
     "output_type": "stream",
     "text": [
      "Decoder(\n",
      "  (upconvs): ModuleList(\n",
      "    (0): ConvTranspose2d(1024, 512, kernel_size=(2, 2), stride=(2, 2))\n",
      "    (1): ConvTranspose2d(512, 256, kernel_size=(2, 2), stride=(2, 2))\n",
      "    (2): ConvTranspose2d(256, 128, kernel_size=(2, 2), stride=(2, 2))\n",
      "    (3): ConvTranspose2d(128, 64, kernel_size=(2, 2), stride=(2, 2))\n",
      "  )\n",
      "  (decoder_blocks): ModuleList(\n",
      "    (0): Block(\n",
      "      (conv1): Conv2d(1024, 512, kernel_size=(3, 3), stride=(1, 1))\n",
      "      (relu): ReLU()\n",
      "      (conv2): Conv2d(512, 512, kernel_size=(3, 3), stride=(1, 1))\n",
      "    )\n",
      "    (1): Block(\n",
      "      (conv1): Conv2d(512, 256, kernel_size=(3, 3), stride=(1, 1))\n",
      "      (relu): ReLU()\n",
      "      (conv2): Conv2d(256, 256, kernel_size=(3, 3), stride=(1, 1))\n",
      "    )\n",
      "    (2): Block(\n",
      "      (conv1): Conv2d(256, 128, kernel_size=(3, 3), stride=(1, 1))\n",
      "      (relu): ReLU()\n",
      "      (conv2): Conv2d(128, 128, kernel_size=(3, 3), stride=(1, 1))\n",
      "    )\n",
      "    (3): Block(\n",
      "      (conv1): Conv2d(128, 64, kernel_size=(3, 3), stride=(1, 1))\n",
      "      (relu): ReLU()\n",
      "      (conv2): Conv2d(64, 64, kernel_size=(3, 3), stride=(1, 1))\n",
      "    )\n",
      "  )\n",
      ")\n"
     ]
    }
   ],
   "source": [
    "print(decoder)"
   ]
  },
  {
   "cell_type": "code",
   "execution_count": 49,
   "metadata": {},
   "outputs": [
    {
     "data": {
      "text/plain": [
       "torch.Size([1, 1024, 28, 28])"
      ]
     },
     "execution_count": 49,
     "metadata": {},
     "output_type": "execute_result"
    }
   ],
   "source": [
    "x = features[-1]\n",
    "x.shape"
   ]
  },
  {
   "cell_type": "code",
   "execution_count": 57,
   "metadata": {},
   "outputs": [],
   "source": [
    "# feature_maps = [features[-i] for i in range(2,len(features)+1)]\n",
    "feature_maps = features[::-1]"
   ]
  },
  {
   "cell_type": "code",
   "execution_count": 58,
   "metadata": {},
   "outputs": [
    {
     "name": "stdout",
     "output_type": "stream",
     "text": [
      "torch.Size([1, 1024, 28, 28])\n",
      "torch.Size([1, 512, 64, 64])\n",
      "torch.Size([1, 256, 136, 136])\n",
      "torch.Size([1, 128, 280, 280])\n",
      "torch.Size([1, 64, 568, 568])\n"
     ]
    }
   ],
   "source": [
    "for fm in feature_maps:\n",
    "    print(fm.shape)"
   ]
  },
  {
   "cell_type": "code",
   "execution_count": 59,
   "metadata": {},
   "outputs": [
    {
     "name": "stdout",
     "output_type": "stream",
     "text": [
      "torch.Size([1, 64, 388, 388])\n"
     ]
    }
   ],
   "source": [
    "output = decoder(feature_maps[0], feature_maps[1:])\n",
    "print(output.shape) "
   ]
  },
  {
   "cell_type": "markdown",
   "metadata": {},
   "source": [
    "## Testing UNet"
   ]
  },
  {
   "cell_type": "code",
   "execution_count": 61,
   "metadata": {},
   "outputs": [],
   "source": [
    "from unet import UNet"
   ]
  },
  {
   "cell_type": "code",
   "execution_count": 63,
   "metadata": {},
   "outputs": [
    {
     "name": "stdout",
     "output_type": "stream",
     "text": [
      "UNet(\n",
      "  (encoder): Encoder(\n",
      "    (encoder_blocks): ModuleList(\n",
      "      (0): Block(\n",
      "        (conv1): Conv2d(3, 64, kernel_size=(3, 3), stride=(1, 1))\n",
      "        (relu): ReLU()\n",
      "        (conv2): Conv2d(64, 64, kernel_size=(3, 3), stride=(1, 1))\n",
      "      )\n",
      "      (1): Block(\n",
      "        (conv1): Conv2d(64, 128, kernel_size=(3, 3), stride=(1, 1))\n",
      "        (relu): ReLU()\n",
      "        (conv2): Conv2d(128, 128, kernel_size=(3, 3), stride=(1, 1))\n",
      "      )\n",
      "      (2): Block(\n",
      "        (conv1): Conv2d(128, 256, kernel_size=(3, 3), stride=(1, 1))\n",
      "        (relu): ReLU()\n",
      "        (conv2): Conv2d(256, 256, kernel_size=(3, 3), stride=(1, 1))\n",
      "      )\n",
      "      (3): Block(\n",
      "        (conv1): Conv2d(256, 512, kernel_size=(3, 3), stride=(1, 1))\n",
      "        (relu): ReLU()\n",
      "        (conv2): Conv2d(512, 512, kernel_size=(3, 3), stride=(1, 1))\n",
      "      )\n",
      "      (4): Block(\n",
      "        (conv1): Conv2d(512, 1024, kernel_size=(3, 3), stride=(1, 1))\n",
      "        (relu): ReLU()\n",
      "        (conv2): Conv2d(1024, 1024, kernel_size=(3, 3), stride=(1, 1))\n",
      "      )\n",
      "    )\n",
      "    (pool): MaxPool2d(kernel_size=2, stride=2, padding=0, dilation=1, ceil_mode=False)\n",
      "  )\n",
      "  (decoder): Decoder(\n",
      "    (upconvs): ModuleList(\n",
      "      (0): ConvTranspose2d(1024, 512, kernel_size=(2, 2), stride=(2, 2))\n",
      "      (1): ConvTranspose2d(512, 256, kernel_size=(2, 2), stride=(2, 2))\n",
      "      (2): ConvTranspose2d(256, 128, kernel_size=(2, 2), stride=(2, 2))\n",
      "      (3): ConvTranspose2d(128, 64, kernel_size=(2, 2), stride=(2, 2))\n",
      "    )\n",
      "    (decoder_blocks): ModuleList(\n",
      "      (0): Block(\n",
      "        (conv1): Conv2d(1024, 512, kernel_size=(3, 3), stride=(1, 1))\n",
      "        (relu): ReLU()\n",
      "        (conv2): Conv2d(512, 512, kernel_size=(3, 3), stride=(1, 1))\n",
      "      )\n",
      "      (1): Block(\n",
      "        (conv1): Conv2d(512, 256, kernel_size=(3, 3), stride=(1, 1))\n",
      "        (relu): ReLU()\n",
      "        (conv2): Conv2d(256, 256, kernel_size=(3, 3), stride=(1, 1))\n",
      "      )\n",
      "      (2): Block(\n",
      "        (conv1): Conv2d(256, 128, kernel_size=(3, 3), stride=(1, 1))\n",
      "        (relu): ReLU()\n",
      "        (conv2): Conv2d(128, 128, kernel_size=(3, 3), stride=(1, 1))\n",
      "      )\n",
      "      (3): Block(\n",
      "        (conv1): Conv2d(128, 64, kernel_size=(3, 3), stride=(1, 1))\n",
      "        (relu): ReLU()\n",
      "        (conv2): Conv2d(64, 64, kernel_size=(3, 3), stride=(1, 1))\n",
      "      )\n",
      "    )\n",
      "  )\n",
      "  (head): Conv2d(64, 1, kernel_size=(1, 1), stride=(1, 1))\n",
      ")\n"
     ]
    }
   ],
   "source": [
    "model = UNet(ouput_dim=(256, 256), encoder_channels=(3, 64, 128, 256, 512, 1024), decoder_channels=(1024, 512, 256, 128, 64))\n",
    "print(model)"
   ]
  },
  {
   "cell_type": "code",
   "execution_count": 64,
   "metadata": {},
   "outputs": [
    {
     "name": "stdout",
     "output_type": "stream",
     "text": [
      "torch.Size([1, 1, 256, 256])\n"
     ]
    }
   ],
   "source": [
    "\n",
    "x = torch.randn(1, 3, 572, 572)  # Example input tensor\n",
    "output = model(x)\n",
    "print(output.shape)  # Expected output shape\n"
   ]
  },
  {
   "cell_type": "code",
   "execution_count": null,
   "metadata": {},
   "outputs": [],
   "source": []
  }
 ],
 "metadata": {
  "kernelspec": {
   "display_name": "computer_vision",
   "language": "python",
   "name": "python3"
  },
  "language_info": {
   "codemirror_mode": {
    "name": "ipython",
    "version": 3
   },
   "file_extension": ".py",
   "mimetype": "text/x-python",
   "name": "python",
   "nbconvert_exporter": "python",
   "pygments_lexer": "ipython3",
   "version": "3.12.4"
  }
 },
 "nbformat": 4,
 "nbformat_minor": 2
}
